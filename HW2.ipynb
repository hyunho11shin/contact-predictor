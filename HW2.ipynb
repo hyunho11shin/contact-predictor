{
 "cells": [
  {
   "cell_type": "code",
   "execution_count": 22,
   "id": "f6e81d3f-3455-451c-95b8-4a7bd5908f4f",
   "metadata": {},
   "outputs": [],
   "source": [
    "import numpy as np\n",
    "import re\n",
    "\n",
    "a3m_fn = \"/public_data/ml/CATH40/CATH40-20JUN08/msa/12asA00.a3m\"\n",
    "ccm_fn = \"/public_data/ml/CATH40/CATH40-20JUN08/ccm/12asA00.npy\"\n",
    "aa_code = \"ARNDCEQGHILKMFPSTWYVX-\"\n",
    "\n",
    "mapping = {}\n",
    "for i, char in enumerate(aa_code):\n",
    "    mapping[char] = i\n",
    "\n",
    "# TODO: Calculate sequence profile feature (amino acid propensity per position)"
   ]
  },
  {
   "cell_type": "code",
   "execution_count": 23,
   "id": "2e6564dd-4adf-415b-bb69-39f2cd8d506b",
   "metadata": {},
   "outputs": [],
   "source": [
    "# 1. Read a3m file (ingnore lower case - insertion)\n",
    "prot_seqs = []\n",
    "with open(a3m_fn, 'r') as a3m_f:\n",
    "    for line in a3m_f:\n",
    "        if not line.startswith('>'):\n",
    "            prot_seqs.append(np.array([mapping.get(res) for res in re.sub(f'[^{aa_code}]', \"\", line)]))\n",
    "\n",
    "prot_align = np.transpose(np.vstack(prot_seqs))"
   ]
  },
  {
   "cell_type": "code",
   "execution_count": 24,
   "id": "5b84292d",
   "metadata": {},
   "outputs": [],
   "source": [
    "# 2. Calculate sequence profile (N_res, 20+1+1) 20 standard a.a.(ARNDCQEGHILKMFPSTWVU) + 1 unknown('X') + 1 gap('-')\n",
    "seq_profile = np.array([np.bincount(res, minlength=22) for res in prot_align])/prot_align.shape[1]"
   ]
  },
  {
   "cell_type": "code",
   "execution_count": 25,
   "id": "2f117cfe",
   "metadata": {},
   "outputs": [],
   "source": [
    "# 3. Tile sequence profile feature to make it as 2D(N_res, N_res, 22) * 2 (x-tile, y-tile)\n",
    "N_res = len(prot_align)\n",
    "tiled_prof = np.tile(seq_profile, (N_res, 1)).reshape(N_res, N_res, 22)\n",
    "final_prof = np.concatenate((tiled_prof, np.rot90(tiled_prof)), axis=2)"
   ]
  },
  {
   "cell_type": "code",
   "execution_count": 26,
   "id": "c0eda901",
   "metadata": {},
   "outputs": [
    {
     "name": "stdout",
     "output_type": "stream",
     "text": [
      "(327, 327, 485)\n"
     ]
    }
   ],
   "source": [
    "# 4. concat to CCM feature (N_res, N_res, 441 + 22 + 22)\n",
    "ccm = np.load(ccm_fn)\n",
    "final_feature = np.concatenate((final_prof, ccm), axis=2)\n",
    "print(final_feature.shape)"
   ]
  },
  {
   "cell_type": "code",
   "execution_count": 27,
   "id": "a1d9b313",
   "metadata": {},
   "outputs": [
    {
     "name": "stdout",
     "output_type": "stream",
     "text": [
      "[0.05900484 0.03038309 0.01100837 0.03786878 0.00396301 0.06428886\n",
      " 0.05812417 0.00528402 0.01056803 0.02906209 0.17217085 0.12813738\n",
      " 0.04051079 0.16336416 0.         0.01981506 0.05768384 0.001321\n",
      " 0.08410392 0.01541171 0.         0.00792602]\n"
     ]
    }
   ],
   "source": [
    "print(seq_profile[10])"
   ]
  }
 ],
 "metadata": {
  "kernelspec": {
   "display_name": "Python 3 (ipykernel)",
   "language": "python",
   "name": "python3"
  },
  "language_info": {
   "codemirror_mode": {
    "name": "ipython",
    "version": 3
   },
   "file_extension": ".py",
   "mimetype": "text/x-python",
   "name": "python",
   "nbconvert_exporter": "python",
   "pygments_lexer": "ipython3",
   "version": "3.9.15"
  }
 },
 "nbformat": 4,
 "nbformat_minor": 5
}
