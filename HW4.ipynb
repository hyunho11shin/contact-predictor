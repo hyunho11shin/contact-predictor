{
 "cells": [
  {
   "cell_type": "code",
   "execution_count": 20,
   "id": "e0579b37",
   "metadata": {},
   "outputs": [],
   "source": [
    "# Import python libraries (pytorch, numpy, etc -- whatever you need to import)\n",
    "import torch \n",
    "import torch.nn as nn\n",
    "import numpy as np\n",
    "import scipy\n",
    "import string\n",
    "import random\n",
    "import matplotlib.pyplot as plt"
   ]
  },
  {
   "cell_type": "code",
   "execution_count": 21,
   "id": "e0231a66",
   "metadata": {},
   "outputs": [
    {
     "name": "stdout",
     "output_type": "stream",
     "text": [
      "cpu\n"
     ]
    }
   ],
   "source": [
    "# Hyper parameters\n",
    "\n",
    "torch.set_num_threads(4) # make it use upto 4 cpus -- to avoid utilizing all CPUs on master node when you run this script on master\n",
    "\n",
    "BATCH_SIZE = 16 # number of batches\n",
    "CROP_SIZE = 64 # If input protein is longer than CROP_SIZE, it will be trimed to have CROP_SIZE residues (i_start:i_start+CROP_SIZE)\n",
    "AA_ORDER = \"ARNDCQEGHILKMFPSTWYVX-\"\n",
    "DIVISOR = [1, 2, 5]\n",
    "device=\"cuda:0\" if torch.cuda.is_available() else \"cpu\" # which device to use?\n",
    "print (device)"
   ]
  },
  {
   "cell_type": "code",
   "execution_count": 3,
   "id": "a560eee1",
   "metadata": {},
   "outputs": [],
   "source": [
    "class CustomDataset(torch.utils.data.Dataset): \n",
    "    def __init__(self, list_name):\n",
    "        self.root = \"/public_data/ml/CATH40/CATH40-20JUN08/\" # home directory for dataset\n",
    "        self.domIDs = [line.strip() for line in open(\"%s/%s\"%(self.root, list_name))] # items in dataset\n",
    "        \n",
    "        self.msa_dir = \"%s/msa\"%self.root # where can I find msa?\n",
    "        self.ccm_dir = \"%s/ccm\"%self.root # where can I find raw CCM data (coevolution analysis)?\n",
    "        self.pdb_dir = \"%s/pdb\"%self.root # where can I find ground-truth structure?\n",
    "        \n",
    "    def __len__(self):\n",
    "        return len(self.domIDs)\n",
    "    \n",
    "    def read_MSA(self, msa_fn):\n",
    "        table = str.maketrans(dict.fromkeys(string.ascii_lowercase))\n",
    "        \n",
    "        msa = list()\n",
    "        with open(msa_fn) as fp:\n",
    "            for line in fp:\n",
    "                # skip labels\n",
    "                if line[0] != '>':\n",
    "                    # remove whitespaces/lowercase letters and append to MSA\n",
    "                    msa.append(line.strip().translate(table))\n",
    "            \n",
    "        # convert letters into numbers\n",
    "        alphabet = np.array(list(AA_ORDER), dtype='|S1').view(np.uint8) # (22)\n",
    "        msa = np.array([list(s) for s in msa], dtype='|S1').view(np.uint8) # (Nseq, L)\n",
    "        for i in range(alphabet.shape[0]):\n",
    "            msa[msa == alphabet[i]] = i\n",
    "\n",
    "        # treat all unknown characters as UNKNOWN\n",
    "        msa[msa >= 22] = 20\n",
    "            \n",
    "        msa_onehot = np.eye(22)[msa] # one-hot encoded msa (Nseq, Length, 22)\n",
    "        seq_onehot = msa_onehot[0] # one-hot encoded query sequence (Length, 22)\n",
    "        seq_profile = msa_onehot.sum(axis=0) / msa_onehot.shape[0] # MSA sequence profile (Length, 22)\n",
    "\n",
    "        return seq_onehot, seq_profile\n",
    "        \n",
    "    def read_pdb(self, pdb_fn, L):\n",
    "        cords = list()\n",
    "        seqnums = list()\n",
    "        with open(pdb_fn) as fp:\n",
    "            for line in fp:\n",
    "                if line.startswith(\"ATOM\"):\n",
    "                    resName = line[17:20].strip()\n",
    "                    atmName = line[12:16].strip()\n",
    "                    resSeqN = line[23:26].strip()\n",
    "                    if resName == \"GLY\":\n",
    "                        if atmName == \"CA\":\n",
    "                            cords.append([float(line[30:38]), float(line[38:46]), float(line[46:54])])\n",
    "                            seqnums.append(int(resSeqN) - 1)\n",
    "                    else:\n",
    "                        if atmName == \"CB\":\n",
    "                            cords.append([float(line[30:38]), float(line[38:46]), float(line[46:54])])\n",
    "                            seqnums.append(int(resSeqN) - 1)\n",
    "        cords = np.array(cords)\n",
    "\n",
    "        Cb_dist = scipy.spatial.distance.cdist(cords, cords)\n",
    "        Cb_contact = (Cb_dist < 8.0).astype(float) # Cb-Cb contact map (Ca for Gly) (Length, Length)\n",
    "        \n",
    "        # In PDB, it can have a missing region (exists in sequence, but not in structure).\n",
    "        # I will use this during loss calculation.\n",
    "        missing_res = list()\n",
    "\n",
    "        for i in range(L):\n",
    "            if i not in seqnums:\n",
    "                Cb_contact = np.insert(Cb_contact, i, np.zeros((1, Cb_contact.shape[1])), axis=0)\n",
    "                Cb_contact = np.insert(Cb_contact, i, np.zeros(1), axis=1)\n",
    "                missing_res.append(i)\n",
    "\n",
    "        mask = np.ones((L, L))\n",
    "        mask[missing_res, :] = 0\n",
    "        mask[:, missing_res] = 0\n",
    "        \n",
    "        return torch.from_numpy(Cb_contact), torch.from_numpy(mask)\n",
    "        \n",
    "    def __getitem__(self, idx):\n",
    "        domain = self.domIDs[idx]\n",
    "        msa_fn = \"%s/%s.a3m\"%(self.msa_dir, domain) # msa file for selected domain\n",
    "        ccm_fn = \"%s/%s.npy\"%(self.ccm_dir, domain) # raw ccm file for selected domain\n",
    "        pdb_fn = \"%s/%s.pdb\"%(self.pdb_dir, domain) # raw pdb file for selected domain\n",
    "         \n",
    "        # 1. read MSA & get query sequence + sequence profile & concatenate them to get a 1D feature\n",
    "        feat_1d = np.concatenate(self.read_MSA(msa_fn), axis=-1) # (Length, 22+22)\n",
    "        L = feat_1d.shape[0]\n",
    "        \n",
    "        # 2. tile them to make it as 2D feature\n",
    "        tile_x = np.tile(feat_1d, (L, 1, 1))\n",
    "        tile_y = np.transpose(tile_x, (1, 0, 2))\n",
    "\n",
    "        # 3. read raw CCM (coevolution) data & get 2D input features by concatenating CCM features & tiled 1D features\n",
    "        ccm = np.load(ccm_fn)\n",
    "        feat_2d = torch.from_numpy(np.concatenate((ccm, tile_x, tile_y), axis=-1)) # (L, L, 441+44+44)\n",
    "        \n",
    "        # 4. read pdb & get contacts between Cb atoms (for Gly use Ca instead of Cb)\n",
    "        labels, mask = self.read_pdb(pdb_fn, L)\n",
    "        \n",
    "        # 5. return input features, labels (contact map), and mask information (to calculate loss on valid pairs only)\n",
    "        return feat_2d, labels, mask"
   ]
  },
  {
   "cell_type": "code",
   "execution_count": 4,
   "id": "6f12325b",
   "metadata": {},
   "outputs": [],
   "source": [
    "# You need to define a rule about how to collate batch when proteins have different length\n",
    "# Below is the example. feel free to modify it or use it as-is\n",
    "def collate_batch(batch):\n",
    "    # Input: batch = (input_feat, label, mask)\n",
    "    # Output: Cropped input_feat, label, mask\n",
    "    L_min = min([CROP_SIZE, min([input_feat.shape[0] for (input_feat,_,_) in batch])])\n",
    "    \n",
    "    b_input = list()\n",
    "    b_label = list()\n",
    "    b_mask = list()\n",
    "    # crop examples having length > L_min\n",
    "    for input_feat, label, mask in batch:\n",
    "        L = input_feat.shape[0]\n",
    "        if L > L_min:\n",
    "            end_idx_1 = np.random.randint(L_min, L)\n",
    "            end_idx_2 = end_idx_1\n",
    "        else:\n",
    "            end_idx_1 = L_min\n",
    "            end_idx_2 = L_min\n",
    "        b_input.append(input_feat[end_idx_1-L_min:end_idx_1,end_idx_2-L_min:end_idx_2])\n",
    "        b_label.append(label[end_idx_1-L_min:end_idx_1,end_idx_2-L_min:end_idx_2])\n",
    "        b_mask.append(mask[end_idx_1-L_min:end_idx_1,end_idx_2-L_min:end_idx_2])\n",
    "    return torch.stack(b_input), torch.stack(b_label), torch.stack(b_mask)"
   ]
  },
  {
   "cell_type": "code",
   "execution_count": 5,
   "id": "d49b6c6e",
   "metadata": {},
   "outputs": [],
   "source": [
    "# define dataloader for training set, validation set\n",
    "traindata = CustomDataset(\"train_s\") # (10251,)\n",
    "data_size = len(traindata)\n",
    "\n",
    "np.random.seed(516)\n",
    "shuffled_indices = np.random.permutation(data_size)\n",
    "#train_indices = shuffled_indices[:int(data_size * 0.8)]\n",
    "#valid_indices = shuffled_indices[int(data_size * 0.8):]\n",
    "train_indices = shuffled_indices[:4]\n",
    "valid_indices = shuffled_indices[4:5]\n",
    "\n",
    "trainset = torch.utils.data.Subset(traindata, train_indices)\n",
    "validset = torch.utils.data.Subset(traindata, valid_indices)\n",
    "testdata = CustomDataset(\"test_s\") # (100,)\n",
    "testset = torch.utils.data.Subset(testdata, [0, 1, 2, 3, 4, 5, 6, 7])\n",
    "\n",
    "trainloader = torch.utils.data.DataLoader(trainset, batch_size=BATCH_SIZE, num_workers=4, pin_memory=True, shuffle=True, collate_fn=collate_batch)\n",
    "validloader = torch.utils.data.DataLoader(validset, batch_size=BATCH_SIZE, num_workers=4, pin_memory=True, shuffle=False, collate_fn=collate_batch)\n",
    "testloader = torch.utils.data.DataLoader(testset, batch_size=BATCH_SIZE, num_workers=4, pin_memory=True, shuffle=False, collate_fn=collate_batch)"
   ]
  },
  {
   "cell_type": "code",
   "execution_count": 6,
   "id": "a0fb46a2",
   "metadata": {},
   "outputs": [],
   "source": [
    "# Define Model\n",
    "#   - ResNet based architecture\n",
    "#   - Please refer AlphaFold or trRosetta paper\n",
    "#      AlphaFold1 paper: https://www.nature.com/articles/s41586-019-1923-7\n",
    "#      trRosetta paper: https://www.pnas.org/doi/10.1073/pnas.1914677117\n",
    "\n",
    "# You may want to google how to implement ResNet in pytorch! Good luck!\n",
    "class DenseBlock(nn.Module):\n",
    "    def __init__(self, in_channels, growth_rate, num_layers):\n",
    "        super(DenseBlock, self).__init__()\n",
    "        self.layers = nn.ModuleList()\n",
    "        for i in range(num_layers):\n",
    "            layer = self._make_layer(in_channels + i * growth_rate, growth_rate)\n",
    "            self.layers.append(layer)\n",
    "\n",
    "    def _make_layer(self, in_channels, out_channels):\n",
    "        layer = nn.Sequential(\n",
    "            nn.BatchNorm2d(in_channels),\n",
    "            nn.ReLU(inplace=True),\n",
    "            nn.Conv2d(in_channels, out_channels, kernel_size=3, padding=1),\n",
    "        )\n",
    "        return layer\n",
    "\n",
    "    def forward(self, x):\n",
    "        features = [x]\n",
    "        for layer in self.layers:\n",
    "            new_feature = layer(torch.cat(features, dim=1))\n",
    "            features.append(new_feature)\n",
    "        return torch.cat(features, dim=1)\n",
    "\n",
    "class ContactPredictor(nn.Module):\n",
    "    def __init__(self, d_in, d_out, num_blocks, growth_rate=32):\n",
    "        super(ContactPredictor, self).__init__()\n",
    "        self.growth_rate = growth_rate\n",
    "        self.dense_blocks = nn.ModuleList()\n",
    "        self.transition_layers = nn.ModuleList()\n",
    "\n",
    "        # declare d_middle inside DenseNet (!=ResNet)\n",
    "        d_middle = growth_rate * 2\n",
    "\n",
    "        # Embedding layer\n",
    "        self.embedding = nn.Conv2d(d_in, d_middle, 1) # project down d_in inputs to gr*2 hidden representation\n",
    "        self.bn1 = nn.BatchNorm2d(d_middle)\n",
    "        self.relu = nn.ReLU(inplace=True)\n",
    "\n",
    "        # DenseNet\n",
    "        for i, num_layers in enumerate(num_blocks):\n",
    "            block = DenseBlock(d_middle, growth_rate, num_layers)\n",
    "            self.dense_blocks.append(block)\n",
    "            d_middle += num_layers * growth_rate\n",
    "            if i != len(num_blocks) - 1:\n",
    "                transition = self._make_transition_layer(d_middle)\n",
    "                self.transition_layers.append(transition)\n",
    "                d_middle //= 2\n",
    "                \n",
    "        # Mapping to output dimension\n",
    "        self.to_out = nn.Conv2d(d_middle // 2, d_out, kernel_size=1)\n",
    "        \n",
    "    def _make_transition_layer(self, in_channels):\n",
    "        transition = nn.Sequential(\n",
    "            nn.BatchNorm2d(in_channels),\n",
    "            nn.ReLU(inplace=True),\n",
    "            nn.Conv2d(in_channels, in_channels // 2, kernel_size=1),\n",
    "            nn.AdaptiveAvgPool2d((64, 64)),\n",
    "        )\n",
    "        return transition\n",
    "\n",
    "    def forward(self, x):\n",
    "        # Input: raw 2D features (Batch, d_raw, Length, Length)\n",
    "        # Output: distogram/contact logits (Batch, n_bin, Length, Length)\n",
    "        x = self.embedding(x)\n",
    "        x = self.bn1(x)\n",
    "        x = self.relu(x)\n",
    "        for block, transition in zip(self.dense_blocks, self.transition_layers):\n",
    "            x = block(x)\n",
    "            x = transition(x)\n",
    "        x = self.to_out(x)\n",
    "        x = x.squeeze(1)\n",
    "        return x"
   ]
  },
  {
   "cell_type": "code",
   "execution_count": 7,
   "id": "b0826312",
   "metadata": {
    "scrolled": true,
    "tags": []
   },
   "outputs": [],
   "source": [
    "# 1. Training data -- Prepared\n",
    "# 2. Data loader -- process input features & labels\n",
    "# 3. Deep learning model\n",
    "# 4. Optimizer\n",
    "# 5. Loss function\n",
    "\n",
    "# Get AI model to be trained\n",
    "# You need to change **...** part!\n",
    "# DenseNet-121: [6, 12, 24, 16]\n",
    "# DenseNet-169: [6, 12, 32, 32]\n",
    "# DenseNet-201: [6, 12, 48, 32]\n",
    "# DenseNet-264: [6, 12, 64, 48]\n",
    "model = ContactPredictor(529, 1, [6, 12, 24, 16]).to(device)\n",
    "\n",
    "# define loss function to use (which loss you need to use?)\n",
    "criterion = nn.BCEWithLogitsLoss()"
   ]
  },
  {
   "cell_type": "code",
   "execution_count": 9,
   "id": "956b272e-f1dc-4569-b664-7047cf181707",
   "metadata": {},
   "outputs": [
    {
     "data": {
      "text/plain": [
       "<All keys matched successfully>"
      ]
     },
     "execution_count": 9,
     "metadata": {},
     "output_type": "execute_result"
    }
   ],
   "source": [
    "py_filename = 'HW3X'\n",
    "NUM_EPOCHS = 10\n",
    "model.load_state_dict(torch.load(f'temp/model_{py_filename}_ep{NUM_EPOCHS}.pth', map_location=torch.device('cpu'))['model_state_dict'])"
   ]
  },
  {
   "cell_type": "code",
   "execution_count": 10,
   "id": "acf2125a-df6b-48c2-834a-d8f13dc81851",
   "metadata": {},
   "outputs": [
    {
     "name": "stdout",
     "output_type": "stream",
     "text": [
      "0.07574989248602627\n"
     ]
    }
   ],
   "source": [
    "model.eval()\n",
    "avg_loss = 0.0\n",
    "with torch.no_grad(): # you don't need to calculate gradient for validation\n",
    "    for i_batch, (inputs, labels, masks) in enumerate(testloader):\n",
    "        inputs = inputs.permute(0,3,1,2).to(device, non_blocking=True)\n",
    "        labels = labels.to(device, non_blocking=True)\n",
    "        masks = masks.to(device, non_blocking=True)\n",
    "        outputs = model(inputs.float())\n",
    "        loss = (criterion(outputs, labels)*masks).sum() / masks.sum()\n",
    "        avg_loss += loss.detach()\n",
    "    avg_loss = avg_loss / len(testloader)\n",
    "print(float(avg_loss))"
   ]
  },
  {
   "cell_type": "code",
   "execution_count": 38,
   "id": "b74bb1b9-fcd1-46b6-ac74-691af624d5da",
   "metadata": {},
   "outputs": [
    {
     "data": {
      "image/png": "[encoded data removed]",
      "text/plain": [
       "<Figure size 640x480 with 1 Axes>"
      ]
     },
     "metadata": {},
     "output_type": "display_data"
    },
    {
     "data": {
      "image/png": "[encoded data removed]",
      "text/plain": [
       "<Figure size 640x480 with 1 Axes>"
      ]
     },
     "metadata": {},
     "output_type": "display_data"
    }
   ],
   "source": [
    "def visualize_map(contact_map):\n",
    "    plt.imshow(contact_map, interpolation='none')\n",
    "    plt.title('Protein Contact Map')\n",
    "    plt.xlabel('Residue number')\n",
    "    plt.ylabel('Residue number')\n",
    "    plt.show()\n",
    "visualize_map(labels[0])\n",
    "visualize_map(torch.sigmoid(outputs[0]))"
   ]
  },
  {
   "cell_type": "code",
   "execution_count": 39,
   "id": "c7c2113c-f7eb-4a96-a658-daff5379c006",
   "metadata": {},
   "outputs": [],
   "source": [
    "def precision(contacts, divisor):\n",
    "    contacts = contacts[:len(contacts)//divisor]\n",
    "    return sum(row[1] for row in contacts)/len(contacts)\n",
    "\n",
    "def evaluate(prediction, label):\n",
    "    predict_map = np.array(torch.sigmoid(prediction))\n",
    "\n",
    "    short_range = []\n",
    "    medium_range = []\n",
    "    long_range = []\n",
    "\n",
    "    for i in range(predict_map.shape[0]):\n",
    "        for j in range(predict_map.shape[1]):\n",
    "            if predict_map[i, j] >= 0.5:\n",
    "                c_range = abs(i-j)\n",
    "                if 6 <= c_range < 12:\n",
    "                    short_range.append([predict_map[i, j], label[i, j]])\n",
    "                elif 12 <= c_range < 24:\n",
    "                    medium_range.append([predict_map[i, j], label[i, j]])\n",
    "                elif 24 <= c_range:\n",
    "                    long_range.append([predict_map[i, j], label[i, j]])\n",
    "\n",
    "    short_range.sort(reverse=True)\n",
    "    medium_range.sort(reverse=True)\n",
    "    long_range.sort(reverse=True)\n",
    "    \n",
    "    for i in DIVISOR:\n",
    "        print(f'L/{i} | Short: {precision(short_range, i)}')\n",
    "        print(f'L/{i} | Medium: {precision(medium_range, i)}')\n",
    "        print(f'L/{i} | Long: {precision(long_range, i)}')\n",
    "        print(\"-\"*40)"
   ]
  },
  {
   "cell_type": "code",
   "execution_count": 40,
   "id": "e51c2e32-2d50-4597-a631-15602cc822b6",
   "metadata": {},
   "outputs": [
    {
     "name": "stdout",
     "output_type": "stream",
     "text": [
      "L/1 | Short: 1.0\n",
      "L/1 | Medium: 1.0\n",
      "L/1 | Long: 0.8222222222222222\n",
      "----------------------------------------\n",
      "L/2 | Short: 1.0\n",
      "L/2 | Medium: 1.0\n",
      "L/2 | Long: 1.0\n",
      "----------------------------------------\n",
      "L/5 | Short: 1.0\n",
      "L/5 | Medium: 1.0\n",
      "L/5 | Long: 1.0\n",
      "----------------------------------------\n"
     ]
    }
   ],
   "source": [
    "evaluate(outputs[0], labels[0])"
   ]
  }
 ],
 "metadata": {
  "kernelspec": {
   "display_name": "study",
   "language": "python",
   "name": "study"
  },
  "language_info": {
   "codemirror_mode": {
    "name": "ipython",
    "version": 3
   },
   "file_extension": ".py",
   "mimetype": "text/x-python",
   "name": "python",
   "nbconvert_exporter": "python",
   "pygments_lexer": "ipython3",
   "version": "3.9.15"
  },
  "vscode": {
   "interpreter": {
    "hash": "b1f3adadbf25c62fc6f766b52b851325b8c1f90b123eb2555aa3b6b591ae4ccb"
   }
  }
 },
 "nbformat": 4,
 "nbformat_minor": 5
}
